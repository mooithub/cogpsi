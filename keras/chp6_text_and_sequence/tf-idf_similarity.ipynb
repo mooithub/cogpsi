{
 "cells": [
  {
   "cell_type": "markdown",
   "metadata": {},
   "source": [
    "Cosine similarity based on tf-idf score"
   ]
  },
  {
   "cell_type": "markdown",
   "metadata": {},
   "source": [
    "http://blog.christianperone.com/2013/09/machine-learning-cosine-similarity-for-vector-space-models-part-iii/"
   ]
  },
  {
   "cell_type": "code",
   "execution_count": 51,
   "metadata": {},
   "outputs": [],
   "source": [
    "documents = (\n",
    "\"The sky is blue\",\n",
    "\"The sun is bright\",\n",
    "\"The sun in the sky is bright\",\n",
    "\"We can see the shining sun, the bright sun\",\n",
    "\"sun is hot\",\n",
    "\"In the summer, it's very hot and sunny\",\n",
    "\"I hate the hot weather\"\n",
    ")"
   ]
  },
  {
   "cell_type": "code",
   "execution_count": 52,
   "metadata": {
    "scrolled": true
   },
   "outputs": [
    {
     "name": "stdout",
     "output_type": "stream",
     "text": [
      "  (0, 5)\t0.6387085483562188\n",
      "  (0, 0)\t0.7694487573949885\n",
      "  (1, 7)\t0.6555948618438714\n",
      "  (1, 1)\t0.7551128241024088\n",
      "  (2, 5)\t0.6620685404334281\n",
      "  (2, 7)\t0.4913311714105653\n",
      "  (2, 1)\t0.5659142406484144\n",
      "  (3, 7)\t0.7087999922008041\n",
      "  (3, 1)\t0.4081971923400896\n",
      "  (3, 4)\t0.5753065471744678\n",
      "  (4, 7)\t0.6555948618438714\n",
      "  (4, 3)\t0.7551128241024088\n",
      "  (5, 3)\t0.4484383430387477\n",
      "  (5, 6)\t0.6320217767184382\n",
      "  (5, 8)\t0.6320217767184382\n",
      "  (6, 3)\t0.4484383430387477\n",
      "  (6, 2)\t0.6320217767184382\n",
      "  (6, 9)\t0.6320217767184382\n"
     ]
    }
   ],
   "source": [
    "from sklearn.feature_extraction.text import TfidfVectorizer\n",
    "tfidf_vectorizer = TfidfVectorizer(stop_words = \"english\")\n",
    "tfidf_matrix = tfidf_vectorizer.fit_transform(documents)\n",
    "print(tfidf_matrix)"
   ]
  },
  {
   "cell_type": "code",
   "execution_count": 53,
   "metadata": {
    "scrolled": true
   },
   "outputs": [
    {
     "name": "stdout",
     "output_type": "stream",
     "text": [
      "0 blue\n",
      "1 bright\n",
      "2 hate\n",
      "3 hot\n",
      "4 shining\n",
      "5 sky\n",
      "6 summer\n",
      "7 sun\n",
      "8 sunny\n",
      "9 weather\n"
     ]
    }
   ],
   "source": [
    "for i, feature in enumerate(tfidf_vectorizer.get_feature_names()):\n",
    "    print (i,feature)"
   ]
  },
  {
   "cell_type": "code",
   "execution_count": 55,
   "metadata": {},
   "outputs": [
    {
     "data": {
      "text/plain": [
       "array([[1.        , 0.        , 0.42286884, 0.        , 0.        ,\n",
       "        0.        , 0.        ],\n",
       "       [0.        , 1.        , 0.74944329, 0.77292057, 0.42980462,\n",
       "        0.        , 0.        ],\n",
       "       [0.42286884, 0.74944329, 1.        , 0.57926013, 0.32211419,\n",
       "        0.        , 0.        ],\n",
       "       [0.        , 0.77292057, 0.57926013, 1.        , 0.46468563,\n",
       "        0.        , 0.        ],\n",
       "       [0.        , 0.42980462, 0.32211419, 0.46468563, 1.        ,\n",
       "        0.33862154, 0.33862154],\n",
       "       [0.        , 0.        , 0.        , 0.        , 0.33862154,\n",
       "        1.        , 0.20109695],\n",
       "       [0.        , 0.        , 0.        , 0.        , 0.33862154,\n",
       "        0.20109695, 1.        ]])"
      ]
     },
     "execution_count": 55,
     "metadata": {},
     "output_type": "execute_result"
    }
   ],
   "source": [
    "from sklearn.metrics.pairwise import cosine_similarity\n",
    "cos = cosine_similarity(tfidf_matrix[:], tfidf_matrix)\n",
    "cos"
   ]
  },
  {
   "cell_type": "code",
   "execution_count": 54,
   "metadata": {
    "scrolled": false
   },
   "outputs": [
    {
     "data": {
      "text/html": [
       "<div>\n",
       "<style scoped>\n",
       "    .dataframe tbody tr th:only-of-type {\n",
       "        vertical-align: middle;\n",
       "    }\n",
       "\n",
       "    .dataframe tbody tr th {\n",
       "        vertical-align: top;\n",
       "    }\n",
       "\n",
       "    .dataframe thead th {\n",
       "        text-align: right;\n",
       "    }\n",
       "</style>\n",
       "<table border=\"1\" class=\"dataframe\">\n",
       "  <thead>\n",
       "    <tr style=\"text-align: right;\">\n",
       "      <th></th>\n",
       "      <th>0</th>\n",
       "      <th>1</th>\n",
       "      <th>2</th>\n",
       "      <th>3</th>\n",
       "      <th>4</th>\n",
       "      <th>5</th>\n",
       "      <th>6</th>\n",
       "    </tr>\n",
       "  </thead>\n",
       "  <tbody>\n",
       "    <tr>\n",
       "      <th>0</th>\n",
       "      <td>1.000000</td>\n",
       "      <td>0.000000</td>\n",
       "      <td>0.422869</td>\n",
       "      <td>0.000000</td>\n",
       "      <td>0.000000</td>\n",
       "      <td>0.000000</td>\n",
       "      <td>0.000000</td>\n",
       "    </tr>\n",
       "    <tr>\n",
       "      <th>1</th>\n",
       "      <td>0.000000</td>\n",
       "      <td>1.000000</td>\n",
       "      <td>0.749443</td>\n",
       "      <td>0.772921</td>\n",
       "      <td>0.429805</td>\n",
       "      <td>0.000000</td>\n",
       "      <td>0.000000</td>\n",
       "    </tr>\n",
       "    <tr>\n",
       "      <th>2</th>\n",
       "      <td>0.422869</td>\n",
       "      <td>0.749443</td>\n",
       "      <td>1.000000</td>\n",
       "      <td>0.579260</td>\n",
       "      <td>0.322114</td>\n",
       "      <td>0.000000</td>\n",
       "      <td>0.000000</td>\n",
       "    </tr>\n",
       "    <tr>\n",
       "      <th>3</th>\n",
       "      <td>0.000000</td>\n",
       "      <td>0.772921</td>\n",
       "      <td>0.579260</td>\n",
       "      <td>1.000000</td>\n",
       "      <td>0.464686</td>\n",
       "      <td>0.000000</td>\n",
       "      <td>0.000000</td>\n",
       "    </tr>\n",
       "    <tr>\n",
       "      <th>4</th>\n",
       "      <td>0.000000</td>\n",
       "      <td>0.429805</td>\n",
       "      <td>0.322114</td>\n",
       "      <td>0.464686</td>\n",
       "      <td>1.000000</td>\n",
       "      <td>0.338622</td>\n",
       "      <td>0.286244</td>\n",
       "    </tr>\n",
       "    <tr>\n",
       "      <th>5</th>\n",
       "      <td>0.000000</td>\n",
       "      <td>0.000000</td>\n",
       "      <td>0.000000</td>\n",
       "      <td>0.000000</td>\n",
       "      <td>0.338622</td>\n",
       "      <td>1.000000</td>\n",
       "      <td>0.169991</td>\n",
       "    </tr>\n",
       "    <tr>\n",
       "      <th>6</th>\n",
       "      <td>0.000000</td>\n",
       "      <td>0.000000</td>\n",
       "      <td>0.000000</td>\n",
       "      <td>0.000000</td>\n",
       "      <td>0.286244</td>\n",
       "      <td>0.169991</td>\n",
       "      <td>1.000000</td>\n",
       "    </tr>\n",
       "  </tbody>\n",
       "</table>\n",
       "</div>"
      ],
      "text/plain": [
       "          0         1         2         3         4         5         6\n",
       "0  1.000000  0.000000  0.422869  0.000000  0.000000  0.000000  0.000000\n",
       "1  0.000000  1.000000  0.749443  0.772921  0.429805  0.000000  0.000000\n",
       "2  0.422869  0.749443  1.000000  0.579260  0.322114  0.000000  0.000000\n",
       "3  0.000000  0.772921  0.579260  1.000000  0.464686  0.000000  0.000000\n",
       "4  0.000000  0.429805  0.322114  0.464686  1.000000  0.338622  0.286244\n",
       "5  0.000000  0.000000  0.000000  0.000000  0.338622  1.000000  0.169991\n",
       "6  0.000000  0.000000  0.000000  0.000000  0.286244  0.169991  1.000000"
      ]
     },
     "execution_count": 54,
     "metadata": {},
     "output_type": "execute_result"
    }
   ],
   "source": [
    "import pandas as pd\n",
    "pd.DataFrame(cos)"
   ]
  },
  {
   "cell_type": "code",
   "execution_count": 56,
   "metadata": {
    "scrolled": true
   },
   "outputs": [
    {
     "data": {
      "text/plain": [
       "array([[0.42286884]])"
      ]
     },
     "execution_count": 56,
     "metadata": {},
     "output_type": "execute_result"
    }
   ],
   "source": [
    "cosine_similarity(tfidf_matrix[0],tfidf_matrix[2])"
   ]
  },
  {
   "cell_type": "code",
   "execution_count": 57,
   "metadata": {},
   "outputs": [
    {
     "data": {
      "text/plain": [
       "array([[0.]])"
      ]
     },
     "execution_count": 57,
     "metadata": {},
     "output_type": "execute_result"
    }
   ],
   "source": [
    "cosine_similarity(tfidf_matrix[0],tfidf_matrix[5])"
   ]
  },
  {
   "cell_type": "markdown",
   "metadata": {},
   "source": [
    "another example\n",
    "https://stackoverflow.com/questions/42002859/creating-a-tf-idf-matrix-python-3-6"
   ]
  },
  {
   "cell_type": "code",
   "execution_count": 32,
   "metadata": {},
   "outputs": [
    {
     "name": "stdout",
     "output_type": "stream",
     "text": [
      "  (0, 9)\t0.5330978245262535\n",
      "  (0, 8)\t0.5330978245262535\n",
      "  (0, 7)\t0.3793034928087496\n",
      "  (0, 6)\t0.3793034928087496\n",
      "  (0, 2)\t0.3793034928087496\n",
      "  (1, 7)\t0.24377684733151028\n",
      "  (1, 6)\t0.24377684733151028\n",
      "  (1, 2)\t0.24377684733151028\n",
      "  (1, 1)\t0.3426198530890486\n",
      "  (1, 10)\t0.3426198530890486\n",
      "  (1, 11)\t0.3426198530890486\n",
      "  (1, 0)\t0.3426198530890486\n",
      "  (1, 4)\t0.3426198530890486\n",
      "  (1, 5)\t0.3426198530890486\n",
      "  (1, 3)\t0.3426198530890486\n"
     ]
    }
   ],
   "source": [
    "from sklearn.feature_extraction.text import TfidfVectorizer\n",
    "\n",
    "corpus = [\"welcome to stackoverflow my friend\", \n",
    "          \"my friend, don't worry, you can get help from stackoverflow\"]\n",
    "\n",
    "vectorizer = TfidfVectorizer()\n",
    "matrix = vectorizer.fit_transform(corpus)\n",
    "\n",
    "print(matrix)"
   ]
  },
  {
   "cell_type": "code",
   "execution_count": 37,
   "metadata": {},
   "outputs": [
    {
     "name": "stdout",
     "output_type": "stream",
     "text": [
      "0 can\n",
      "1 don\n",
      "2 friend\n",
      "3 from\n",
      "4 get\n",
      "5 help\n",
      "6 my\n",
      "7 stackoverflow\n",
      "8 to\n",
      "9 welcome\n",
      "10 worry\n",
      "11 you\n"
     ]
    }
   ],
   "source": [
    "for i, feature in enumerate(vectorizer.get_feature_names()):\n",
    "    print (i,feature)"
   ]
  },
  {
   "cell_type": "code",
   "execution_count": 34,
   "metadata": {},
   "outputs": [
    {
     "name": "stdout",
     "output_type": "stream",
     "text": [
      "  (0, 9)\t0.5330978245262535\n",
      "  (0, 8)\t0.5330978245262535\n",
      "  (0, 7)\t0.3793034928087496\n",
      "  (0, 6)\t0.3793034928087496\n",
      "  (0, 2)\t0.3793034928087496\n",
      "  (1, 7)\t0.24377684733151028\n",
      "  (1, 6)\t0.24377684733151028\n",
      "  (1, 2)\t0.24377684733151028\n",
      "  (1, 1)\t0.3426198530890486\n",
      "  (1, 10)\t0.3426198530890486\n",
      "  (1, 11)\t0.3426198530890486\n",
      "  (1, 0)\t0.3426198530890486\n",
      "  (1, 4)\t0.3426198530890486\n",
      "  (1, 5)\t0.3426198530890486\n",
      "  (1, 3)\t0.3426198530890486\n"
     ]
    }
   ],
   "source": [
    "print(matrix)\n",
    "#(document number and feature number) tuple and tf-idf score"
   ]
  },
  {
   "cell_type": "code",
   "execution_count": null,
   "metadata": {},
   "outputs": [],
   "source": []
  }
 ],
 "metadata": {
  "kernelspec": {
   "display_name": "Python 3",
   "language": "python",
   "name": "python3"
  },
  "language_info": {
   "codemirror_mode": {
    "name": "ipython",
    "version": 3
   },
   "file_extension": ".py",
   "mimetype": "text/x-python",
   "name": "python",
   "nbconvert_exporter": "python",
   "pygments_lexer": "ipython3",
   "version": "3.6.8"
  }
 },
 "nbformat": 4,
 "nbformat_minor": 2
}
